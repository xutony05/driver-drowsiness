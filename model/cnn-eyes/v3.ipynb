{
 "cells": [
  {
   "cell_type": "code",
   "execution_count": 1,
   "metadata": {},
   "outputs": [],
   "source": [
    "import os\n",
    "import tensorflow as tf\n",
    "from tensorflow import keras\n",
    "from tensorflow.keras.preprocessing.image import ImageDataGenerator\n",
    "from tensorflow.keras.preprocessing import image\n",
    "import numpy as np\n",
    "import matplotlib.pyplot as plt"
   ]
  },
  {
   "cell_type": "code",
   "execution_count": 2,
   "metadata": {},
   "outputs": [],
   "source": [
    "train_datagen = ImageDataGenerator(rescale=1./255, \n",
    "                                   validation_split=0.2)"
   ]
  },
  {
   "cell_type": "code",
   "execution_count": 3,
   "metadata": {},
   "outputs": [
    {
     "data": {
      "text/plain": [
       "[PhysicalDevice(name='/physical_device:GPU:0', device_type='GPU')]"
      ]
     },
     "execution_count": 3,
     "metadata": {},
     "output_type": "execute_result"
    }
   ],
   "source": [
    "tf.config.list_physical_devices('GPU')"
   ]
  },
  {
   "cell_type": "code",
   "execution_count": 4,
   "metadata": {},
   "outputs": [
    {
     "name": "stdout",
     "output_type": "stream",
     "text": [
      "Found 1162 images belonging to 2 classes.\n",
      "Found 290 images belonging to 2 classes.\n"
     ]
    }
   ],
   "source": [
    "train_generator = train_datagen.flow_from_directory(\n",
    "        '../data/archive/train/eyes',  # This is the source directory for training images\n",
    "        target_size=(80, 80),  # All images will be resized to 150x150\n",
    "        # Since we use binary_crossentropy loss, we need binary labels\n",
    "        shuffle=True,\n",
    "        class_mode='binary',\n",
    "        batch_size=16,\n",
    "        subset='training')\n",
    "\n",
    "validation_generator = train_datagen.flow_from_directory(\n",
    "        '../data/archive/train/eyes',  # This is the source directory for training images\n",
    "        target_size=(80, 80),  # All images will be resized to 150x150\n",
    "        # Since we use binary_crossentropy loss, we need binary labels\n",
    "        shuffle=True,\n",
    "        class_mode='binary',\n",
    "        batch_size=16,\n",
    "        subset='validation')"
   ]
  },
  {
   "cell_type": "code",
   "execution_count": 5,
   "metadata": {},
   "outputs": [
    {
     "name": "stdout",
     "output_type": "stream",
     "text": [
      "WARNING:tensorflow:`input_shape` is undefined or non-square, or `rows` is not in [96, 128, 160, 192, 224]. Weights for input shape (224, 224) will be loaded as the default.\n"
     ]
    }
   ],
   "source": [
    "base_model = tf.keras.applications.mobilenet_v2.MobileNetV2(\n",
    "    include_top=False, weights='imagenet', input_shape=(80,80,3)\n",
    ")"
   ]
  },
  {
   "cell_type": "code",
   "execution_count": 6,
   "metadata": {},
   "outputs": [],
   "source": [
    "model = tf.keras.Sequential([\n",
    "  base_model,\n",
    "  tf.keras.layers.GlobalAveragePooling2D(),\n",
    "  tf.keras.layers.Dense(1, activation='sigmoid')\n",
    "])"
   ]
  },
  {
   "cell_type": "code",
   "execution_count": 7,
   "metadata": {},
   "outputs": [],
   "source": [
    "model.compile(loss='binary_crossentropy',\n",
    "              optimizer='Adam',\n",
    "              metrics=['accuracy'])"
   ]
  },
  {
   "cell_type": "code",
   "execution_count": 8,
   "metadata": {},
   "outputs": [
    {
     "name": "stdout",
     "output_type": "stream",
     "text": [
      "Epoch 1/50\n",
      "73/73 [==============================] - 17s 104ms/step - loss: 0.1259 - accuracy: 0.9535 - val_loss: 2.5076 - val_accuracy: 0.9069\n",
      "Epoch 2/50\n",
      "73/73 [==============================] - 7s 95ms/step - loss: 0.0851 - accuracy: 0.9742 - val_loss: 4.2266 - val_accuracy: 0.9034\n",
      "Epoch 3/50\n",
      "73/73 [==============================] - 6s 88ms/step - loss: 0.0394 - accuracy: 0.9931 - val_loss: 1.5392 - val_accuracy: 0.9552\n",
      "Epoch 4/50\n",
      "73/73 [==============================] - 5s 67ms/step - loss: 0.0391 - accuracy: 0.9940 - val_loss: 0.8952 - val_accuracy: 0.9690\n",
      "Epoch 5/50\n",
      "73/73 [==============================] - 5s 69ms/step - loss: 0.0346 - accuracy: 0.9914 - val_loss: 1.6421 - val_accuracy: 0.9414\n",
      "Epoch 6/50\n",
      "73/73 [==============================] - 6s 87ms/step - loss: 0.0272 - accuracy: 0.9914 - val_loss: 0.5111 - val_accuracy: 0.9793\n",
      "Epoch 7/50\n",
      "73/73 [==============================] - 6s 76ms/step - loss: 0.0027 - accuracy: 0.9991 - val_loss: 0.4625 - val_accuracy: 0.9862\n",
      "Epoch 8/50\n",
      "73/73 [==============================] - 5s 67ms/step - loss: 6.0387e-04 - accuracy: 1.0000 - val_loss: 0.3635 - val_accuracy: 0.9897\n",
      "Epoch 9/50\n",
      "73/73 [==============================] - 5s 74ms/step - loss: 1.6777e-04 - accuracy: 1.0000 - val_loss: 0.2642 - val_accuracy: 0.9931\n",
      "Epoch 10/50\n",
      "73/73 [==============================] - 5s 67ms/step - loss: 6.5073e-05 - accuracy: 1.0000 - val_loss: 0.2317 - val_accuracy: 0.9931\n",
      "Epoch 11/50\n",
      "73/73 [==============================] - 5s 67ms/step - loss: 5.1986e-05 - accuracy: 1.0000 - val_loss: 0.1971 - val_accuracy: 0.9931\n",
      "Epoch 12/50\n",
      "73/73 [==============================] - 5s 68ms/step - loss: 6.9686e-05 - accuracy: 1.0000 - val_loss: 0.1600 - val_accuracy: 0.9931\n",
      "Epoch 13/50\n",
      "73/73 [==============================] - 6s 80ms/step - loss: 2.5595e-04 - accuracy: 1.0000 - val_loss: 0.1215 - val_accuracy: 0.9931\n",
      "Epoch 14/50\n",
      "73/73 [==============================] - 5s 71ms/step - loss: 6.1021e-05 - accuracy: 1.0000 - val_loss: 0.0985 - val_accuracy: 0.9966\n",
      "Epoch 15/50\n",
      "73/73 [==============================] - 5s 69ms/step - loss: 7.8825e-05 - accuracy: 1.0000 - val_loss: 0.0851 - val_accuracy: 0.9966\n",
      "Epoch 16/50\n",
      "73/73 [==============================] - 5s 70ms/step - loss: 4.0800e-05 - accuracy: 1.0000 - val_loss: 0.0664 - val_accuracy: 0.9966\n",
      "Epoch 17/50\n",
      "73/73 [==============================] - 5s 69ms/step - loss: 2.1681e-05 - accuracy: 1.0000 - val_loss: 0.0422 - val_accuracy: 0.9966\n",
      "Epoch 18/50\n",
      "73/73 [==============================] - 5s 69ms/step - loss: 6.4927e-05 - accuracy: 1.0000 - val_loss: 0.0317 - val_accuracy: 0.9966\n",
      "Epoch 19/50\n",
      "73/73 [==============================] - 5s 71ms/step - loss: 0.0132 - accuracy: 0.9974 - val_loss: 0.6092 - val_accuracy: 0.9138\n",
      "Epoch 20/50\n",
      "73/73 [==============================] - 5s 71ms/step - loss: 0.0491 - accuracy: 0.9862 - val_loss: 11.4371 - val_accuracy: 0.5931\n",
      "Epoch 21/50\n",
      "73/73 [==============================] - 6s 77ms/step - loss: 0.0087 - accuracy: 0.9983 - val_loss: 4.5244 - val_accuracy: 0.7414\n",
      "Epoch 22/50\n",
      "73/73 [==============================] - 6s 77ms/step - loss: 0.0271 - accuracy: 0.9948 - val_loss: 0.1422 - val_accuracy: 0.9931\n",
      "Epoch 23/50\n",
      "73/73 [==============================] - 6s 83ms/step - loss: 0.0024 - accuracy: 1.0000 - val_loss: 0.1616 - val_accuracy: 0.9897\n"
     ]
    }
   ],
   "source": [
    "early_stop = keras.callbacks.EarlyStopping(monitor='val_loss', patience=5)\n",
    "\n",
    "history = model.fit(\n",
    "      train_generator,\n",
    "      validation_data = validation_generator,\n",
    "      epochs=50,\n",
    "      verbose=1,\n",
    "      callbacks=early_stop)"
   ]
  },
  {
   "cell_type": "code",
   "execution_count": 12,
   "metadata": {},
   "outputs": [],
   "source": [
    "test_datagen = ImageDataGenerator(rescale=1./255)"
   ]
  },
  {
   "cell_type": "code",
   "execution_count": 13,
   "metadata": {},
   "outputs": [
    {
     "name": "stdout",
     "output_type": "stream",
     "text": [
      "Found 45 images belonging to 2 classes.\n"
     ]
    }
   ],
   "source": [
    "test_generator = test_datagen.flow_from_directory(\n",
    "        '../data/test/yourfolderforcroppedeyes',  # This is the source directory for training images\n",
    "        target_size=(80, 80),  # All images will be resized to 150x150\n",
    "        # Since we use binary_crossentropy loss, we need binary labels\n",
    "        shuffle=True,\n",
    "        class_mode='binary',\n",
    "        batch_size=16)"
   ]
  },
  {
   "cell_type": "code",
   "execution_count": 14,
   "metadata": {},
   "outputs": [
    {
     "name": "stdout",
     "output_type": "stream",
     "text": [
      "3/3 [==============================] - 0s 23ms/step - loss: 0.8695 - accuracy: 0.9556\n"
     ]
    },
    {
     "data": {
      "text/plain": [
       "[0.8694506883621216, 0.9555555582046509]"
      ]
     },
     "execution_count": 14,
     "metadata": {},
     "output_type": "execute_result"
    }
   ],
   "source": [
    "model.evaluate(test_generator)"
   ]
  },
  {
   "cell_type": "code",
   "execution_count": 15,
   "metadata": {},
   "outputs": [],
   "source": [
    "model.save(\"mobile_eyes_model.h5\")"
   ]
  },
  {
   "cell_type": "code",
   "execution_count": null,
   "metadata": {},
   "outputs": [],
   "source": []
  }
 ],
 "metadata": {
  "kernelspec": {
   "display_name": "base",
   "language": "python",
   "name": "python3"
  },
  "language_info": {
   "codemirror_mode": {
    "name": "ipython",
    "version": 3
   },
   "file_extension": ".py",
   "mimetype": "text/x-python",
   "name": "python",
   "nbconvert_exporter": "python",
   "pygments_lexer": "ipython3",
   "version": "3.8.5"
  }
 },
 "nbformat": 4,
 "nbformat_minor": 2
}
