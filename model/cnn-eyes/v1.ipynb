{
 "cells": [
  {
   "cell_type": "code",
   "execution_count": 1,
   "metadata": {},
   "outputs": [],
   "source": [
    "import os\n",
    "import tensorflow as tf\n",
    "from tensorflow import keras\n",
    "from tensorflow.keras.preprocessing.image import ImageDataGenerator\n",
    "from keras.preprocessing import image"
   ]
  },
  {
   "cell_type": "code",
   "execution_count": 2,
   "metadata": {},
   "outputs": [
    {
     "data": {
      "text/plain": [
       "[PhysicalDevice(name='/physical_device:GPU:0', device_type='GPU')]"
      ]
     },
     "execution_count": 2,
     "metadata": {},
     "output_type": "execute_result"
    }
   ],
   "source": [
    "tf.config.list_physical_devices('GPU')"
   ]
  },
  {
   "cell_type": "code",
   "execution_count": 3,
   "metadata": {},
   "outputs": [],
   "source": [
    "train_datagen = ImageDataGenerator(rescale=1./255, \n",
    "                                   validation_split=0.2)"
   ]
  },
  {
   "cell_type": "code",
   "execution_count": 4,
   "metadata": {},
   "outputs": [
    {
     "name": "stdout",
     "output_type": "stream",
     "text": [
      "Found 1162 images belonging to 2 classes.\n",
      "Found 290 images belonging to 2 classes.\n"
     ]
    }
   ],
   "source": [
    "train_generator = train_datagen.flow_from_directory(\n",
    "        '../data/archive/train/eyes',  # This is the source directory for training images\n",
    "        target_size=(120, 120),  # All images will be resized to 150x150\n",
    "        # Since we use binary_crossentropy loss, we need binary labels\n",
    "        shuffle=True,\n",
    "        class_mode='binary',\n",
    "        batch_size=32,\n",
    "        subset='training')\n",
    "\n",
    "validation_generator = train_datagen.flow_from_directory(\n",
    "        '../data/archive/train/eyes',  # This is the source directory for training images\n",
    "        target_size=(120, 120),  # All images will be resized to 150x150\n",
    "        # Since we use binary_crossentropy loss, we need binary labels\n",
    "        shuffle=True,\n",
    "        class_mode='binary',\n",
    "        batch_size=32,\n",
    "        subset='validation')"
   ]
  },
  {
   "cell_type": "code",
   "execution_count": 5,
   "metadata": {},
   "outputs": [],
   "source": [
    "model = tf.keras.models.Sequential([\n",
    "    # Note the input shape is the desired size of the image 300x300 with 3 bytes color\n",
    "    # This is the first convolution\n",
    "    tf.keras.layers.Conv2D(16, (3,3), activation='relu', input_shape=(120, 120, 3)),\n",
    "    tf.keras.layers.MaxPooling2D(2, 2),\n",
    "    # The second convolution\n",
    "    tf.keras.layers.Conv2D(32, (3,3), activation='relu'),\n",
    "    tf.keras.layers.MaxPooling2D(2,2),\n",
    "    # The third convolution\n",
    "    tf.keras.layers.Conv2D(64, (3,3), activation='relu'),\n",
    "    tf.keras.layers.MaxPooling2D(2,2),\n",
    "    # The fourth convolution\n",
    "    tf.keras.layers.Conv2D(64, (3,3), activation='relu'),\n",
    "    tf.keras.layers.MaxPooling2D(2,2),\n",
    "    tf.keras.layers.Dropout(0.5),\n",
    "    # Flatten the results to feed into a DNN\n",
    "    tf.keras.layers.Flatten(),\n",
    "    # 512 neuron hidden layer\n",
    "    tf.keras.layers.Dense(512, activation='relu'),\n",
    "    # Only 1 output neuron. It will contain a value from 0-1 where 0 for 1 class ('horses') and 1 for the other ('humans')\n",
    "    tf.keras.layers.Dense(1, activation='sigmoid')\n",
    "])"
   ]
  },
  {
   "cell_type": "code",
   "execution_count": 6,
   "metadata": {},
   "outputs": [],
   "source": [
    "model.compile(loss='binary_crossentropy',\n",
    "              optimizer='Adam',\n",
    "              metrics=['accuracy'])"
   ]
  },
  {
   "cell_type": "code",
   "execution_count": 7,
   "metadata": {},
   "outputs": [
    {
     "name": "stdout",
     "output_type": "stream",
     "text": [
      "Epoch 1/50\n",
      "37/37 [==============================] - 41s 764ms/step - loss: 0.5533 - accuracy: 0.7235 - val_loss: 0.3805 - val_accuracy: 0.8483\n",
      "Epoch 2/50\n",
      "37/37 [==============================] - 7s 185ms/step - loss: 0.1681 - accuracy: 0.9417 - val_loss: 0.2895 - val_accuracy: 0.8897\n",
      "Epoch 3/50\n",
      "37/37 [==============================] - 7s 176ms/step - loss: 0.1074 - accuracy: 0.9639 - val_loss: 0.2894 - val_accuracy: 0.8759\n",
      "Epoch 4/50\n",
      "37/37 [==============================] - 6s 165ms/step - loss: 0.0967 - accuracy: 0.9712 - val_loss: 0.2353 - val_accuracy: 0.9034\n",
      "Epoch 5/50\n",
      "37/37 [==============================] - 5s 145ms/step - loss: 0.0745 - accuracy: 0.9732 - val_loss: 0.2312 - val_accuracy: 0.9138\n",
      "Epoch 6/50\n",
      "37/37 [==============================] - 7s 182ms/step - loss: 0.0954 - accuracy: 0.9616 - val_loss: 0.1812 - val_accuracy: 0.9345\n",
      "Epoch 7/50\n",
      "37/37 [==============================] - 5s 130ms/step - loss: 0.0581 - accuracy: 0.9787 - val_loss: 0.2202 - val_accuracy: 0.9483\n",
      "Epoch 8/50\n",
      "37/37 [==============================] - 5s 122ms/step - loss: 0.0526 - accuracy: 0.9833 - val_loss: 0.2147 - val_accuracy: 0.9276\n",
      "Epoch 9/50\n",
      "37/37 [==============================] - 4s 114ms/step - loss: 0.0480 - accuracy: 0.9860 - val_loss: 0.1366 - val_accuracy: 0.9586\n",
      "Epoch 10/50\n",
      "37/37 [==============================] - 5s 130ms/step - loss: 0.0459 - accuracy: 0.9841 - val_loss: 0.1543 - val_accuracy: 0.9483\n",
      "Epoch 11/50\n",
      "37/37 [==============================] - 5s 140ms/step - loss: 0.0341 - accuracy: 0.9833 - val_loss: 0.2209 - val_accuracy: 0.9310\n",
      "Epoch 12/50\n",
      "37/37 [==============================] - 5s 131ms/step - loss: 0.0557 - accuracy: 0.9794 - val_loss: 0.1420 - val_accuracy: 0.9552\n",
      "Epoch 13/50\n",
      "37/37 [==============================] - 4s 120ms/step - loss: 0.0400 - accuracy: 0.9835 - val_loss: 0.1582 - val_accuracy: 0.9310\n",
      "Epoch 14/50\n",
      "37/37 [==============================] - 6s 175ms/step - loss: 0.0305 - accuracy: 0.9880 - val_loss: 0.1586 - val_accuracy: 0.9586\n"
     ]
    }
   ],
   "source": [
    "early_stop = keras.callbacks.EarlyStopping(monitor='val_loss', patience=5)\n",
    "\n",
    "history = model.fit(\n",
    "      train_generator,\n",
    "      validation_data = validation_generator,\n",
    "      epochs=50,\n",
    "      verbose=1,\n",
    "      callbacks=early_stop)"
   ]
  },
  {
   "cell_type": "code",
   "execution_count": null,
   "metadata": {},
   "outputs": [],
   "source": []
  }
 ],
 "metadata": {
  "kernelspec": {
   "display_name": "Python 3.8.5 ('base')",
   "language": "python",
   "name": "python3"
  },
  "language_info": {
   "codemirror_mode": {
    "name": "ipython",
    "version": 3
   },
   "file_extension": ".py",
   "mimetype": "text/x-python",
   "name": "python",
   "nbconvert_exporter": "python",
   "pygments_lexer": "ipython3",
   "version": "3.8.5"
  },
  "orig_nbformat": 4,
  "vscode": {
   "interpreter": {
    "hash": "4298e6fd6da2fe1fbdbe55781d0a378dd9562c1f5795e48e37a7037879961298"
   }
  }
 },
 "nbformat": 4,
 "nbformat_minor": 2
}
