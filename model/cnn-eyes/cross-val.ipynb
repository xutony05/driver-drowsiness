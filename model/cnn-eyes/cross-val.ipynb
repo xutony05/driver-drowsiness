{
 "cells": [
  {
   "attachments": {},
   "cell_type": "markdown",
   "metadata": {},
   "source": [
    "creat csv to define filename and label"
   ]
  },
  {
   "cell_type": "code",
   "execution_count": 1,
   "metadata": {},
   "outputs": [],
   "source": [
    "import os\n",
    "import pandas as pd"
   ]
  },
  {
   "cell_type": "code",
   "execution_count": 2,
   "metadata": {},
   "outputs": [],
   "source": [
    "df = pd.DataFrame(columns=['filename', 'label'])"
   ]
  },
  {
   "cell_type": "code",
   "execution_count": 3,
   "metadata": {},
   "outputs": [],
   "source": [
    "train_closed = os.listdir('../data/archive/train/eyes/Closed/')\n",
    "train_open = os.listdir('../data/archive/train/eyes/Open/')\n",
    "val_closed = os.listdir('../data/archive/val/eyes/Closed/')\n",
    "val_open = os.listdir('../data/archive/val/eyes/Open/')"
   ]
  },
  {
   "cell_type": "code",
   "execution_count": 4,
   "metadata": {},
   "outputs": [],
   "source": [
    "new_df_train_closed = pd.DataFrame({'filename': ['train/eyes/Closed/' + i for i in train_closed], \"label\": \"Closed\"})\n",
    "new_df_train_open = pd.DataFrame({'filename': ['train/eyes/Open/' + i for i in train_open], \"label\": \"Open\"})\n",
    "new_df_val_closed = pd.DataFrame({'filename': ['val/eyes/Closed/' + i for i in val_closed], \"label\": \"Closed\"})\n",
    "new_df_val_open = pd.DataFrame({'filename': ['val/eyes/Open/' + i for i in val_open], \"label\": \"Open\"})"
   ]
  },
  {
   "cell_type": "code",
   "execution_count": 5,
   "metadata": {},
   "outputs": [],
   "source": [
    "df = pd.concat([new_df_train_closed, new_df_train_open, new_df_val_closed, new_df_val_open])"
   ]
  },
  {
   "cell_type": "code",
   "execution_count": 6,
   "metadata": {},
   "outputs": [],
   "source": [
    "shuffled_df = df.sample(frac=1)"
   ]
  },
  {
   "cell_type": "code",
   "execution_count": 7,
   "metadata": {},
   "outputs": [],
   "source": [
    "shuffled_df.to_csv('../data/archive/cross-val/eyes/eyesLabels.csv', index=False)"
   ]
  },
  {
   "cell_type": "code",
   "execution_count": null,
   "metadata": {},
   "outputs": [],
   "source": []
  }
 ],
 "metadata": {
  "kernelspec": {
   "display_name": "base",
   "language": "python",
   "name": "python3"
  },
  "language_info": {
   "codemirror_mode": {
    "name": "ipython",
    "version": 3
   },
   "file_extension": ".py",
   "mimetype": "text/x-python",
   "name": "python",
   "nbconvert_exporter": "python",
   "pygments_lexer": "ipython3",
   "version": "3.8.5"
  },
  "orig_nbformat": 4,
  "vscode": {
   "interpreter": {
    "hash": "4298e6fd6da2fe1fbdbe55781d0a378dd9562c1f5795e48e37a7037879961298"
   }
  }
 },
 "nbformat": 4,
 "nbformat_minor": 2
}
