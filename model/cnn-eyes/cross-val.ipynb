{
 "cells": [
  {
   "attachments": {},
   "cell_type": "markdown",
   "metadata": {},
   "source": [
    "creat csv to define filename and label"
   ]
  },
  {
   "cell_type": "code",
   "execution_count": 1,
   "metadata": {},
   "outputs": [],
   "source": [
    "import os\n",
    "import pandas as pd"
   ]
  },
  {
   "cell_type": "code",
   "execution_count": 2,
   "metadata": {},
   "outputs": [],
   "source": [
    "df = pd.DataFrame(columns=['filename', 'label'])"
   ]
  },
  {
   "cell_type": "code",
   "execution_count": 4,
   "metadata": {},
   "outputs": [],
   "source": [
    "train_noYawn = os.listdir('../data/archive/train/mouth/no_yawn/')\n",
    "train_yawn = os.listdir('../data/archive/train/mouth/yawn/')\n",
    "val_noYawn = os.listdir('../data/archive/val/mouth/no_yawn/')\n",
    "val_yawn = os.listdir('../data/archive/val/mouth/yawn/')"
   ]
  },
  {
   "cell_type": "code",
   "execution_count": 3,
   "metadata": {},
   "outputs": [],
   "source": [
    "# cropped mouth\n",
    "train_noYawn = os.listdir('../data/archive/train/mouth-cropped/no_yawn/')\n",
    "train_yawn = os.listdir('../data/archive/train/mouth-cropped/yawn/')\n",
    "val_noYawn = os.listdir('../data/archive/val/mouth-cropped/no_yawn/')\n",
    "val_yawn = os.listdir('../data/archive/val/mouth-cropped/yawn/')"
   ]
  },
  {
   "cell_type": "code",
   "execution_count": 5,
   "metadata": {},
   "outputs": [],
   "source": [
    "new_df_train_noYawn = pd.DataFrame({'filename': ['train/mouth/no_yawn/' + i for i in train_noYawn], \"label\": \"No\"})\n",
    "new_df_train_yawn = pd.DataFrame({'filename': ['train/mouth/yawn/' + i for i in train_yawn], \"label\": \"Yawn\"})\n",
    "new_df_val_noYawn = pd.DataFrame({'filename': ['val/mouth/no_yawn/' + i for i in val_noYawn], \"label\": \"No\"})\n",
    "new_df_val_yawn = pd.DataFrame({'filename': ['val/mouth/yawn/' + i for i in val_yawn], \"label\": \"Yawn\"})"
   ]
  },
  {
   "cell_type": "code",
   "execution_count": 4,
   "metadata": {},
   "outputs": [],
   "source": [
    "# cropped mouth\n",
    "new_df_train_noYawn = pd.DataFrame({'filename': ['train/mouth-cropped/no_yawn/' + i for i in train_noYawn], \"label\": \"No\"})\n",
    "new_df_train_yawn = pd.DataFrame({'filename': ['train/mouth-cropped/yawn/' + i for i in train_yawn], \"label\": \"Yawn\"})\n",
    "new_df_val_noYawn = pd.DataFrame({'filename': ['val/mouth-cropped/no_yawn/' + i for i in val_noYawn], \"label\": \"No\"})\n",
    "new_df_val_yawn = pd.DataFrame({'filename': ['val/mouth-cropped/yawn/' + i for i in val_yawn], \"label\": \"Yawn\"})"
   ]
  },
  {
   "cell_type": "code",
   "execution_count": 5,
   "metadata": {},
   "outputs": [],
   "source": [
    "df = pd.concat([new_df_train_noYawn, new_df_train_yawn, new_df_val_noYawn, new_df_val_yawn])"
   ]
  },
  {
   "cell_type": "code",
   "execution_count": 6,
   "metadata": {},
   "outputs": [],
   "source": [
    "shuffled_df = df.sample(frac=1)"
   ]
  },
  {
   "cell_type": "code",
   "execution_count": 9,
   "metadata": {},
   "outputs": [],
   "source": [
    "shuffled_df.to_csv('../data/archive/cross-val/mouth/mouthLabels.csv', index=False)"
   ]
  },
  {
   "cell_type": "code",
   "execution_count": 8,
   "metadata": {},
   "outputs": [],
   "source": [
    "# cropped mouth\n",
    "shuffled_df.to_csv('../data/archive/cross-val/mouth-cropped/mouthLabels.csv', index=False)"
   ]
  },
  {
   "cell_type": "code",
   "execution_count": null,
   "metadata": {},
   "outputs": [],
   "source": []
  }
 ],
 "metadata": {
  "kernelspec": {
   "display_name": "base",
   "language": "python",
   "name": "python3"
  },
  "language_info": {
   "codemirror_mode": {
    "name": "ipython",
    "version": 3
   },
   "file_extension": ".py",
   "mimetype": "text/x-python",
   "name": "python",
   "nbconvert_exporter": "python",
   "pygments_lexer": "ipython3",
   "version": "3.8.5"
  },
  "orig_nbformat": 4,
  "vscode": {
   "interpreter": {
    "hash": "4298e6fd6da2fe1fbdbe55781d0a378dd9562c1f5795e48e37a7037879961298"
   }
  }
 },
 "nbformat": 4,
 "nbformat_minor": 2
}
