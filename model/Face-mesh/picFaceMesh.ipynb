{
 "cells": [
  {
   "cell_type": "code",
   "execution_count": 14,
   "metadata": {},
   "outputs": [],
   "source": [
    "##import libraries\n",
    "import mediapipe as mp\n",
    "import cv2\n",
    "import pandas as pd\n",
    "import numpy as np\n",
    "import time\n",
    "import matplotlib.pyplot as plt\n",
    "from mediapipe.python.solutions.drawing_utils import _normalized_to_pixel_coordinates as denormalize_coordinates\n",
    "\n",
    "from filterpy.kalman import KalmanFilter\n",
    "%matplotlib inline"
   ]
  },
  {
   "cell_type": "code",
   "execution_count": 15,
   "metadata": {},
   "outputs": [],
   "source": [
    "# Meidapipe drawing utilities\n",
    "mp_drawing = mp.solutions.drawing_utils\n",
    "mp_drawing_styles = mp.solutions.drawing_styles\n",
    "mp_facemesh = mp.solutions.face_mesh\n",
    "denormalize_coordinates = mp_drawing._normalized_to_pixel_coordinates"
   ]
  },
  {
   "cell_type": "code",
   "execution_count": 16,
   "metadata": {},
   "outputs": [],
   "source": [
    "#Eyes landmark points\n",
    "\n",
    "all_left_eye_idxs = list(mp_facemesh.FACEMESH_LEFT_EYE)\n",
    "# flatten and remove duplicates\n",
    "all_left_eye_idxs = set(np.ravel(all_left_eye_idxs)) \n",
    " \n",
    "# Landmark points corresponding to right eye\n",
    "all_right_eye_idxs = list(mp_facemesh.FACEMESH_RIGHT_EYE)\n",
    "all_right_eye_idxs = set(np.ravel(all_right_eye_idxs))\n",
    " \n",
    "# Combined for plotting - Landmark points for both eye\n",
    "all_idxs = all_left_eye_idxs.union(all_right_eye_idxs)\n",
    " \n",
    "# The chosen 12 points:   P1,  P2,  P3,  P4,  P5,  P6\n",
    "chosen_left_eye_idxs  = [362, 385, 387, 263, 373, 380]\n",
    "chosen_right_eye_idxs = [33,  160, 158, 133, 153, 144]\n",
    "all_chosen_idxs = chosen_left_eye_idxs + chosen_right_eye_idxs\n",
    "\n",
    "#             p1  p2  p3  p4  p5   p6   p7   p8\n",
    "mouth_idxs = [61, 39, 0, 269, 291, 405, 17, 181]\n",
    "mouth_idx_all = [61, 146, 146, 91, 91, 181, 181, 84, 84, 17, 17, 314, 314, 405, 405, 321,\n",
    "321, 375, 375, 291, 61, 185, 185, 40, 40, 39, 39, 37, 37, 0, 0, 267, 267,\n",
    "269, 269, 270, 270, 409, 409, 291, 78, 95, 95, 88, 88, 178, 178, 87, 87, 14,\n",
    "14, 317, 317, 402, 402, 318, 318, 324, 324, 308, 78, 191, 191, 80, 80, 81,\n",
    "81, 82, 82, 13, 13, 312, 312, 311, 311, 310, 310, 415, 415, 308,]"
   ]
  },
  {
   "cell_type": "code",
   "execution_count": 17,
   "metadata": {},
   "outputs": [],
   "source": [
    "#distance calculation\n",
    "def distance(point_1, point_2):\n",
    "    \"\"\"Calculate l2-norm between two points\"\"\"\n",
    "    dist = sum([(i - j) ** 2 for i, j in zip(point_1, point_2)]) ** 0.5\n",
    "    return dist"
   ]
  },
  {
   "cell_type": "code",
   "execution_count": 18,
   "metadata": {},
   "outputs": [],
   "source": [
    "#Eye Aspect Ratio for one eye \n",
    "def get_ear(landmarks, refer_idxs, frame_width, frame_height):\n",
    "    try:\n",
    "        # Compute the euclidean distance between the horizontal\n",
    "        coords_points = []\n",
    "        for i in refer_idxs:\n",
    "            lm = landmarks[i]\n",
    "            coord = denormalize_coordinates(lm.x, lm.y, \n",
    "                                             frame_width, frame_height)\n",
    "            coords_points.append(coord)\n",
    " \n",
    "        # Eye landmark (x, y)-coordinates\n",
    "        P2_P6 = distance(coords_points[1], coords_points[5])\n",
    "        P3_P5 = distance(coords_points[2], coords_points[4])\n",
    "        P1_P4 = distance(coords_points[0], coords_points[3])\n",
    " \n",
    "        # Compute the eye aspect ratio\n",
    "        ear = (P2_P6 + P3_P5) / (2.0 * P1_P4)\n",
    " \n",
    "    except:\n",
    "        ear = 0.0\n",
    "        coords_points = None\n",
    " \n",
    "    return ear, coords_points"
   ]
  },
  {
   "cell_type": "code",
   "execution_count": 19,
   "metadata": {},
   "outputs": [],
   "source": [
    "#Avergae eye aspect ratio using both eyes\n",
    "def calculate_avg_ear(landmarks, left_eye_idxs, right_eye_idxs, image_w, image_h):\n",
    "    \"\"\"Calculate Eye aspect ratio\"\"\"\n",
    " \n",
    "    left_ear, left_lm_coordinates = get_ear(\n",
    "                                      landmarks, \n",
    "                                      left_eye_idxs, \n",
    "                                      image_w, \n",
    "                                      image_h\n",
    "                                    )\n",
    "\n",
    "    right_ear, right_lm_coordinates = get_ear(\n",
    "                                      landmarks, \n",
    "                                      right_eye_idxs, \n",
    "                                      image_w, \n",
    "                                      image_h\n",
    "                                    )\n",
    "                                    \n",
    "    Avg_EAR = (left_ear + right_ear) / 2.0\n",
    " \n",
    "    return Avg_EAR, (left_lm_coordinates, right_lm_coordinates)"
   ]
  },
  {
   "cell_type": "code",
   "execution_count": 20,
   "metadata": {},
   "outputs": [],
   "source": [
    "# Mouth aspect ratio calculation\n",
    "def get_mar(landmarks, refer_idxs, frame_width, frame_height):\n",
    "    try:\n",
    "        # Compute the euclidean distance between the horizontal\n",
    "        coords_points = []\n",
    "        for i in refer_idxs:\n",
    "            lm = landmarks[i]\n",
    "            coord = denormalize_coordinates(lm.x, lm.y, \n",
    "                                             frame_width, frame_height)\n",
    "            coords_points.append(coord)\n",
    " \n",
    "        #              p1  p2  p3  p4  p5   p6   p7   p8\n",
    "        #mouth_idxs = [61, 39, 0, 269, 291, 405, 17, 181]\n",
    "        #Mouth landmark (x, y)-coordinates\n",
    "        P2_P8 = distance(coords_points[1], coords_points[7])\n",
    "        P3_P7 = distance(coords_points[2], coords_points[6])\n",
    "        P4_P6 = distance(coords_points[3], coords_points[5])\n",
    "        P1_P5 = distance(coords_points[0], coords_points[4])\n",
    "        # (p2-p8) +(p3-p7) +(p4-p6)/ 3(p1-p5)\n",
    "        # mouth_idxs = [61, 39, 269,  291, 405, 181]\n",
    "        # Compute the mouth aspect ratio\n",
    "        mar = (P2_P8 + P3_P7 + P4_P6) / (3.0 * P1_P5)\n",
    " \n",
    "    except:\n",
    "        mar = 0.0\n",
    "        coords_points = None\n",
    " \n",
    "    return mar, coords_points"
   ]
  },
  {
   "cell_type": "code",
   "execution_count": 25,
   "metadata": {},
   "outputs": [],
   "source": [
    "\n",
    "def detectDrowsiness(fileName, frameCount):\n",
    "\n",
    "    images  = cv2.imread(fileName)[:, :, ::-1]\n",
    "    EAR = 0\n",
    "    MAR = 0\n",
    "\n",
    "    for idx, image in enumerate([images]):\n",
    "        \n",
    "        image = np.ascontiguousarray(image)\n",
    "        imgH, imgW, _ = image.shape\n",
    "    \n",
    "        # Creating a copy of the original image for plotting the EAR value\n",
    "        custom_chosen_lmk_image = image.copy()\n",
    "    \n",
    "        # Running inference using static_image_mode\n",
    "        with mp_facemesh.FaceMesh(refine_landmarks=True) as face_mesh:\n",
    "            results = face_mesh.process(image).multi_face_landmarks\n",
    "    \n",
    "            # If detections are available.\n",
    "            if results:\n",
    "                for face_id, face_landmarks in enumerate(results):\n",
    "                    landmarks = face_landmarks.landmark\n",
    "                    EAR, _ = calculate_avg_ear(\n",
    "                            landmarks, \n",
    "                            chosen_left_eye_idxs, \n",
    "                            chosen_right_eye_idxs, \n",
    "                            imgW, \n",
    "                            imgH\n",
    "                        )\n",
    "                    MAR, _ = get_mar(\n",
    "                            landmarks, \n",
    "                            mouth_idxs,\n",
    "                            imgW, \n",
    "                            imgH\n",
    "                    )\n",
    "\n",
    "                print(EAR)\n",
    "                print(MAR)\n",
    "                if (EAR > 0.2 and MAR < 0.6):\n",
    "                    frameCount = 0\n",
    "                elif (EAR < 0.2 or MAR > 0.6):\n",
    "                    frameCount += 1\n",
    "                \n",
    "    return frameCount"
   ]
  },
  {
   "cell_type": "code",
   "execution_count": 26,
   "metadata": {},
   "outputs": [
    {
     "name": "stdout",
     "output_type": "stream",
     "text": [
      "0.24472289283021406\n",
      "0.42134970619608075\n",
      "Not Drowsy\n"
     ]
    },
    {
     "ename": "",
     "evalue": "",
     "output_type": "error",
     "traceback": [
      "\u001b[1;31mThe Kernel crashed while executing code in the the current cell or a previous cell. Please review the code in the cell(s) to identify a possible cause of the failure. Click <a href='https://aka.ms/vscodeJupyterKernelCrash'>here</a> for more info. View Jupyter <a href='command:jupyter.viewOutput'>log</a> for further details."
     ]
    }
   ],
   "source": [
    "fName = \"test-open-eyes.jpg\"\n",
    "Count = 0\n",
    "Count = detectDrowsiness(fName, Count)\n",
    "drowsy = False\n",
    "\n",
    "if (Count >= 1):\n",
    "    drowsy = True\n",
    "    print(\"Drowsy\")\n",
    "else: \n",
    "    drowsy = False\n",
    "    print(\"Not Drowsy\")"
   ]
  }
 ],
 "metadata": {
  "kernelspec": {
   "display_name": "Python 3",
   "language": "python",
   "name": "python3"
  },
  "language_info": {
   "codemirror_mode": {
    "name": "ipython",
    "version": 3
   },
   "file_extension": ".py",
   "mimetype": "text/x-python",
   "name": "python",
   "nbconvert_exporter": "python",
   "pygments_lexer": "ipython3",
   "version": "3.9.13"
  },
  "orig_nbformat": 4
 },
 "nbformat": 4,
 "nbformat_minor": 2
}
