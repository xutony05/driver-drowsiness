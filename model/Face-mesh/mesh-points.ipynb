{
 "cells": [
  {
   "cell_type": "code",
   "execution_count": null,
   "metadata": {},
   "outputs": [],
   "source": [
    "class MeshPoints:\n",
    "\n",
    "    lipsUpperOuter = [61, 185, 40, 39, 37, 0, 267, 269, 270, 409, 291]\n",
    "    lipsLowerOuter = [146, 91, 181, 84, 17, 314, 405, 321, 375, 291]\n",
    "    lipsUpperInner = [78, 191, 80, 81, 82, 13, 312, 311, 310, 415, 308]\n",
    "    lipsLowerInner = [78, 95, 88, 178, 87, 14, 317, 402, 318, 324, 308]\n",
    "\n",
    "    rightEyeUpper0 = [246, 161, 160, 159, 158, 157, 173]\n",
    "    rightEyeLower0 = [33, 7, 163, 144, 145, 153, 154, 155, 133]\n",
    "    rightEyeUpper1 = [247, 30, 29, 27, 28, 56, 190]\n",
    "    rightEyeLower1 = [130, 25, 110, 24, 23, 22, 26, 112, 243]\n",
    "    rightEyeUpper2 = [113, 225, 224, 223, 222, 221, 189]\n",
    "    rightEyeLower2 = [226, 31, 228, 229, 230, 231, 232, 233, 244]\n",
    "    rightEyeLower3 = [143, 111, 117, 118, 119, 120, 121, 128, 245]\n",
    "\n",
    "    rightEyebrowUpper = [156, 70, 63, 105, 66, 107, 55, 193]\n",
    "    rightEyebrowLower = [35, 124, 46, 53, 52, 65]\n",
    "\n",
    "    leftEyeUpper0 = [466, 388, 387, 386, 385, 384, 398]\n",
    "    leftEyeLower0 = [263, 249, 390, 373, 374, 380, 381, 382, 362]\n",
    "    leftEyeUpper1 = [467, 260, 259, 257, 258, 286, 414]\n",
    "    leftEyeLower1 = [359, 255, 339, 254, 253, 252, 256, 341, 463]\n",
    "    leftEyeUpper2 = [342, 445, 444, 443, 442, 441, 413]\n",
    "    leftEyeLower2 = [446, 261, 448, 449, 450, 451, 452, 453, 464]\n",
    "    leftEyeLower3 = [372, 340, 346, 347, 348, 349, 350, 357, 465]\n",
    "\n",
    "    leftEyebrowUpper = [383, 300, 293, 334, 296, 336, 285, 417]\n",
    "    leftEyebrowLower = [265, 353, 276, 283, 282, 295]\n",
    "\n",
    "    midwayBetweenEyes = [168]\n",
    "\n",
    "####################### Face mesh points for mouth are still needed"
   ]
  }
 ],
 "metadata": {
  "kernelspec": {
   "display_name": "Python 3.9.13 64-bit (microsoft store)",
   "language": "python",
   "name": "python3"
  },
  "language_info": {
   "name": "python",
   "version": "3.9.13"
  },
  "orig_nbformat": 4,
  "vscode": {
   "interpreter": {
    "hash": "0b993bb36e24ddcd96a4fb3a8aad47b6369c3dee68b732e93d03e2f56cb99010"
   }
  }
 },
 "nbformat": 4,
 "nbformat_minor": 2
}
