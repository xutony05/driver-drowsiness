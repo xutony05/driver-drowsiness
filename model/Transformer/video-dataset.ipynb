{
 "cells": [
  {
   "cell_type": "code",
   "execution_count": 5,
   "metadata": {},
   "outputs": [],
   "source": [
    "import pandas as pd\n",
    "import shutil"
   ]
  },
  {
   "cell_type": "code",
   "execution_count": 19,
   "metadata": {},
   "outputs": [],
   "source": [
    "df = pd.read_csv(\"../data/mirror-data.csv\")\n",
    "df[\"Action\"] = df[\"Action\"].str.rstrip()\n",
    "df = df[df.Action != \"Talking&Yawning\"]\n",
    "df[\"label\"] = df.Action.astype('category').cat.codes"
   ]
  },
  {
   "cell_type": "code",
   "execution_count": 20,
   "metadata": {},
   "outputs": [],
   "source": [
    "i = 0\n",
    "dfTrain = pd.DataFrame()\n",
    "dfTest = pd.DataFrame()\n",
    "\n",
    "while i<len(df):\n",
    "    if i%5==0:\n",
    "        dfTest = pd.concat([dfTest, df.iloc[[i]]])\n",
    "    else :\n",
    "        dfTrain = pd.concat([dfTrain, df.iloc[[i]]])\n",
    "    i+=1"
   ]
  },
  {
   "cell_type": "code",
   "execution_count": 21,
   "metadata": {},
   "outputs": [],
   "source": [
    "root = \"../data/YawDD/YawDD dataset/Mirror/all/\"\n",
    "newRoot = \"../data/transformer/val/\""
   ]
  },
  {
   "cell_type": "code",
   "execution_count": 22,
   "metadata": {},
   "outputs": [],
   "source": [
    "for index, row in dfTest.iterrows():\n",
    "    if row[\"label\"] == 0:\n",
    "        shutil.copy(root + row[\"video-name\"], newRoot + \"normal/\" + row[\"video-name\"])\n",
    "    elif row[\"label\"] == 1:\n",
    "        shutil.copy(root + row[\"video-name\"], newRoot + \"talking/\" + row[\"video-name\"])\n",
    "    elif row[\"label\"] == 2:\n",
    "        shutil.copy(root + row[\"video-name\"], newRoot + \"yawning/\" + row[\"video-name\"])"
   ]
  },
  {
   "cell_type": "code",
   "execution_count": 23,
   "metadata": {},
   "outputs": [],
   "source": [
    "newRoot = \"../data/transformer/train/\""
   ]
  },
  {
   "cell_type": "code",
   "execution_count": 24,
   "metadata": {},
   "outputs": [],
   "source": [
    "for index, row in dfTrain.iterrows():\n",
    "    if row[\"label\"] == 0:\n",
    "        shutil.copy(root + row[\"video-name\"], newRoot + \"normal/\" + row[\"video-name\"])\n",
    "    elif row[\"label\"] == 1:\n",
    "        shutil.copy(root + row[\"video-name\"], newRoot + \"talking/\" + row[\"video-name\"])\n",
    "    elif row[\"label\"] == 2:\n",
    "        shutil.copy(root + row[\"video-name\"], newRoot + \"yawning/\" + row[\"video-name\"])"
   ]
  },
  {
   "cell_type": "code",
   "execution_count": null,
   "metadata": {},
   "outputs": [],
   "source": []
  }
 ],
 "metadata": {
  "kernelspec": {
   "display_name": ".venv",
   "language": "python",
   "name": "python3"
  },
  "language_info": {
   "codemirror_mode": {
    "name": "ipython",
    "version": 3
   },
   "file_extension": ".py",
   "mimetype": "text/x-python",
   "name": "python",
   "nbconvert_exporter": "python",
   "pygments_lexer": "ipython3",
   "version": "3.8.0"
  },
  "orig_nbformat": 4
 },
 "nbformat": 4,
 "nbformat_minor": 2
}
