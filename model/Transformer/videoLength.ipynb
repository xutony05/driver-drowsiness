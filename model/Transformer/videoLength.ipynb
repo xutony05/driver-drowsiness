{
 "cells": [
  {
   "cell_type": "code",
   "execution_count": 1,
   "metadata": {},
   "outputs": [],
   "source": [
    "import pandas as pd\n",
    "import cv2\n",
    "import numpy as np\n",
    "import os"
   ]
  },
  {
   "cell_type": "code",
   "execution_count": 2,
   "metadata": {},
   "outputs": [
    {
     "data": {
      "text/html": [
       "<div>\n",
       "<style scoped>\n",
       "    .dataframe tbody tr th:only-of-type {\n",
       "        vertical-align: middle;\n",
       "    }\n",
       "\n",
       "    .dataframe tbody tr th {\n",
       "        vertical-align: top;\n",
       "    }\n",
       "\n",
       "    .dataframe thead th {\n",
       "        text-align: right;\n",
       "    }\n",
       "</style>\n",
       "<table border=\"1\" class=\"dataframe\">\n",
       "  <thead>\n",
       "    <tr style=\"text-align: right;\">\n",
       "      <th></th>\n",
       "      <th>Female Participant Number</th>\n",
       "      <th>Action</th>\n",
       "      <th>video-name</th>\n",
       "    </tr>\n",
       "  </thead>\n",
       "  <tbody>\n",
       "    <tr>\n",
       "      <th>0</th>\n",
       "      <td>1</td>\n",
       "      <td>Normal</td>\n",
       "      <td>1-FemaleNoGlasses-Normal.avi</td>\n",
       "    </tr>\n",
       "    <tr>\n",
       "      <th>1</th>\n",
       "      <td>1</td>\n",
       "      <td>Talking</td>\n",
       "      <td>1-FemaleNoGlasses-Talking.avi</td>\n",
       "    </tr>\n",
       "    <tr>\n",
       "      <th>2</th>\n",
       "      <td>1</td>\n",
       "      <td>Yawning</td>\n",
       "      <td>1-FemaleNoGlasses-Yawning.avi</td>\n",
       "    </tr>\n",
       "    <tr>\n",
       "      <th>3</th>\n",
       "      <td>2</td>\n",
       "      <td>Normal</td>\n",
       "      <td>2-FemaleNoGlasses-Normal.avi</td>\n",
       "    </tr>\n",
       "    <tr>\n",
       "      <th>4</th>\n",
       "      <td>2</td>\n",
       "      <td>Talking</td>\n",
       "      <td>2-FemaleNoGlasses-Talking.avi</td>\n",
       "    </tr>\n",
       "  </tbody>\n",
       "</table>\n",
       "</div>"
      ],
      "text/plain": [
       "   Female Participant Number   Action                     video-name\n",
       "0                          1   Normal   1-FemaleNoGlasses-Normal.avi\n",
       "1                          1  Talking  1-FemaleNoGlasses-Talking.avi\n",
       "2                          1  Yawning  1-FemaleNoGlasses-Yawning.avi\n",
       "3                          2   Normal   2-FemaleNoGlasses-Normal.avi\n",
       "4                          2  Talking  2-FemaleNoGlasses-Talking.avi"
      ]
     },
     "execution_count": 2,
     "metadata": {},
     "output_type": "execute_result"
    }
   ],
   "source": [
    "df1 = pd.read_csv(\"../data/female-mirror-data.csv\")\n",
    "df1[\"Action\"] = df1[\"Action\"].str.rstrip()\n",
    "df1.head()"
   ]
  },
  {
   "cell_type": "code",
   "execution_count": 4,
   "metadata": {},
   "outputs": [],
   "source": [
    "df1 = df1[df1.Action != \"Talking&Yawning\"]"
   ]
  },
  {
   "cell_type": "code",
   "execution_count": 5,
   "metadata": {},
   "outputs": [],
   "source": [
    "def load_video(path):\n",
    "    cap = cv2.VideoCapture(path)\n",
    "    length = int(cap.get(cv2.CAP_PROP_FRAME_COUNT))\n",
    "    return length\n",
    "\n",
    "\n",
    "def prepare_all_videos(df, root_dir):\n",
    "    video_paths = df[\"video-name\"].values.tolist()\n",
    "    most = 0\n",
    "    least = 2000\n",
    "\n",
    "    # For each video.\n",
    "    for idx, path in enumerate(video_paths):\n",
    "        # Gather all its frames and add a batch dimension.\n",
    "        length = load_video(os.path.join(root_dir, path))\n",
    "        if length > most:\n",
    "            most = length\n",
    "            mostURL = path\n",
    "        if length < least:\n",
    "            least = length\n",
    "            leastURL = path\n",
    "\n",
    "    print(\"Most: \" + str(most))\n",
    "    print(mostURL)\n",
    "    print(\"Least: \" + str(least))\n",
    "    print(leastURL)\n",
    "\n",
    "    return most, least"
   ]
  },
  {
   "cell_type": "code",
   "execution_count": 6,
   "metadata": {},
   "outputs": [
    {
     "name": "stdout",
     "output_type": "stream",
     "text": [
      "Most: 1448\n",
      "34-FemaleNoGlasses-Talking.avi\n",
      "Least: 268\n",
      "25-FemaleNoGlasses-Yawning.avi\n"
     ]
    }
   ],
   "source": [
    "most, least = prepare_all_videos(df1, \"../data/YawDD/YawDD dataset/Mirror/Female_mirror/\")"
   ]
  },
  {
   "cell_type": "code",
   "execution_count": 7,
   "metadata": {},
   "outputs": [],
   "source": [
    "df = pd.read_csv(\"../data/mirror-data.csv\")\n",
    "df[\"Action\"] = df[\"Action\"].str.rstrip()"
   ]
  },
  {
   "cell_type": "code",
   "execution_count": 8,
   "metadata": {},
   "outputs": [],
   "source": [
    "df = df1[df1.Action != \"Talking&Yawning\"]"
   ]
  },
  {
   "cell_type": "code",
   "execution_count": 9,
   "metadata": {},
   "outputs": [
    {
     "name": "stdout",
     "output_type": "stream",
     "text": [
      "Most: 1448\n",
      "34-FemaleNoGlasses-Talking.avi\n",
      "Least: 268\n",
      "25-FemaleNoGlasses-Yawning.avi\n"
     ]
    }
   ],
   "source": [
    "most, least = prepare_all_videos(df, \"../data/YawDD/YawDD dataset/Mirror/all/\")"
   ]
  },
  {
   "cell_type": "markdown",
   "metadata": {},
   "source": [
    "Longest frame length from video directory"
   ]
  },
  {
   "cell_type": "code",
   "execution_count": 6,
   "metadata": {},
   "outputs": [
    {
     "name": "stdout",
     "output_type": "stream",
     "text": [
      "The video with the longest frame length is '../data/YawDD/YawDD dataset/Mirror/trimmed/2-MaleGlasses-Yawning - Trim.avi' with 183 frames.\n",
      "The video with the longest duration is '../data/YawDD/YawDD dataset/Mirror/trimmed/2-MaleGlasses-Yawning - Trim.avi' with a duration of 6.078111444778111 seconds.\n"
     ]
    }
   ],
   "source": [
    "import cv2\n",
    "import os\n",
    "\n",
    "def get_video_info(video_path):\n",
    "    cap = cv2.VideoCapture(video_path)\n",
    "    frame_length = int(cap.get(cv2.CAP_PROP_FRAME_COUNT))\n",
    "    fps = cap.get(cv2.CAP_PROP_FPS)\n",
    "    duration = frame_length / fps\n",
    "    cap.release()\n",
    "    return frame_length, duration\n",
    "\n",
    "def find_longest_frame_and_duration(directory):\n",
    "    longest_frame_length = 0\n",
    "    longest_duration = 0\n",
    "    video_with_longest_frame = None\n",
    "    video_with_longest_duration = None\n",
    "\n",
    "    for filename in os.listdir(directory):\n",
    "        if filename.endswith(\".avi\"):  # Change the extension accordingly\n",
    "            video_path = os.path.join(directory, filename)\n",
    "            frame_length, duration = get_video_info(video_path)\n",
    "\n",
    "            if frame_length > longest_frame_length:\n",
    "                longest_frame_length = frame_length\n",
    "                video_with_longest_frame = video_path\n",
    "\n",
    "            if duration > longest_duration:\n",
    "                longest_duration = duration\n",
    "                video_with_longest_duration = video_path\n",
    "\n",
    "    return (\n",
    "        longest_frame_length, video_with_longest_frame,\n",
    "        longest_duration, video_with_longest_duration\n",
    "    )\n",
    "\n",
    "# Replace 'your_directory_path' with the path to your directory containing video files\n",
    "directory_path = '../data/YawDD/YawDD dataset/Mirror/trimmed/'\n",
    "(\n",
    "    longest_frame_length, video_path_frame,\n",
    "    longest_duration, video_path_duration\n",
    ") = find_longest_frame_and_duration(directory_path)\n",
    "\n",
    "if video_path_frame and video_path_duration:\n",
    "    print(f\"The video with the longest frame length is '{video_path_frame}' with {longest_frame_length} frames.\")\n",
    "    print(f\"The video with the longest duration is '{video_path_duration}' with a duration of {longest_duration} seconds.\")\n",
    "else:\n",
    "    print(\"No video files found in the specified directory.\")\n"
   ]
  }
 ],
 "metadata": {
  "kernelspec": {
   "display_name": ".venv",
   "language": "python",
   "name": "python3"
  },
  "language_info": {
   "codemirror_mode": {
    "name": "ipython",
    "version": 3
   },
   "file_extension": ".py",
   "mimetype": "text/x-python",
   "name": "python",
   "nbconvert_exporter": "python",
   "pygments_lexer": "ipython3",
   "version": "3.8.5"
  },
  "orig_nbformat": 4
 },
 "nbformat": 4,
 "nbformat_minor": 2
}
