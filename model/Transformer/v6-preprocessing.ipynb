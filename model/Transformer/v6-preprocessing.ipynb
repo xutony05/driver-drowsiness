{
 "cells": [
  {
   "cell_type": "code",
   "execution_count": 1,
   "metadata": {},
   "outputs": [],
   "source": [
    "import pandas as pd\n",
    "import shutil"
   ]
  },
  {
   "cell_type": "code",
   "execution_count": 2,
   "metadata": {},
   "outputs": [],
   "source": [
    "df = pd.read_csv(\"../data/mirror-data.csv\")\n",
    "df[\"Action\"] = df[\"Action\"].str.rstrip()\n",
    "df = df[df.Action == \"Normal\"]\n",
    "df[\"label\"] = df.Action.astype('category').cat.codes"
   ]
  },
  {
   "cell_type": "code",
   "execution_count": null,
   "metadata": {},
   "outputs": [],
   "source": [
    "root = \"../data/YawDD/YawDD dataset/Mirror/all/\"\n",
    "newRoot = \"../data/v6/normal/\""
   ]
  },
  {
   "cell_type": "markdown",
   "metadata": {},
   "source": [
    "for index, row in df.iterrows():\n",
    "    shutil.copy(root + row[\"video-name\"], newRoot + row[\"video-name\"])"
   ]
  },
  {
   "cell_type": "code",
   "execution_count": 16,
   "metadata": {},
   "outputs": [],
   "source": [
    "import os\n",
    "\n",
    "class VideoDataset:\n",
    "    def __init__(self, root_dir):\n",
    "        self.root_dir = root_dir\n",
    "        self.data = self._load_data()\n",
    "\n",
    "    def _load_data(self):\n",
    "        data = {'Action': [], 'video-name': []}\n",
    "\n",
    "        for class_name in os.listdir(self.root_dir):\n",
    "            class_path = os.path.join(self.root_dir, class_name)\n",
    "            if os.path.isdir(class_path):\n",
    "                for filename in os.listdir(class_path):\n",
    "                    if filename.endswith('.avi'):\n",
    "                        file_path = os.path.join(class_name, filename)\n",
    "                        data['Action'].append(class_name)\n",
    "                        data['video-name'].append(file_path)\n",
    "\n",
    "        return pd.DataFrame(data)\n",
    "\n",
    "    def save_to_csv(self, csv_file):\n",
    "        self.data.to_csv(csv_file, index=False)\n",
    "\n",
    "# Replace 'your_directory_path' with the path to your root directory containing subdirectories for each class\n",
    "dataset = VideoDataset(root_dir='../data/v6/')"
   ]
  },
  {
   "cell_type": "code",
   "execution_count": 17,
   "metadata": {},
   "outputs": [],
   "source": [
    "csv_file_path = '../data/v6.csv'\n",
    "dataset.save_to_csv(csv_file_path)"
   ]
  },
  {
   "cell_type": "code",
   "execution_count": null,
   "metadata": {},
   "outputs": [],
   "source": []
  }
 ],
 "metadata": {
  "kernelspec": {
   "display_name": "timesformer",
   "language": "python",
   "name": "python3"
  },
  "language_info": {
   "codemirror_mode": {
    "name": "ipython",
    "version": 3
   },
   "file_extension": ".py",
   "mimetype": "text/x-python",
   "name": "python",
   "nbconvert_exporter": "python",
   "pygments_lexer": "ipython3",
   "version": "3.7.1"
  }
 },
 "nbformat": 4,
 "nbformat_minor": 2
}
