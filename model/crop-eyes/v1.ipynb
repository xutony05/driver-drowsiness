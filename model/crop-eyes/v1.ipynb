{
 "cells": [
  {
   "cell_type": "code",
   "execution_count": 2,
   "metadata": {},
   "outputs": [],
   "source": [
    "from PIL import Image, ImageDraw\n",
    "import face_recognition\n",
    "import os"
   ]
  },
  {
   "cell_type": "code",
   "execution_count": 17,
   "metadata": {},
   "outputs": [],
   "source": [
    "def eye_cropper(folders):\n",
    "    # Establish count for iterative file saving\n",
    "    count = 0\n",
    "\n",
    "    # For loop going through each image file\n",
    "    #for folder in os.listdir(folders):\n",
    "    for file in os.listdir(folders):\n",
    "        \n",
    "        # Using Facial Recognition Library on Image\n",
    "        image = face_recognition.load_image_file(folders + file)\n",
    "        \n",
    "        # create a variable for the facial feature coordinates\n",
    "        face_landmarks_list = face_recognition.face_landmarks(image)\n",
    "        \n",
    "        # create a placeholder list for the eye coordinates\n",
    "        eyes = []\n",
    "        \n",
    "        try:\n",
    "            eyes.append(face_landmarks_list[0]['left_eye'])\n",
    "            eyes.append(face_landmarks_list[0]['right_eye'])\n",
    "        except:\n",
    "            continue\n",
    "        # establish the max x and y coordinates of the eye\n",
    "        for eye in eyes:\n",
    "            x_max = max([coordinate[0] for coordinate in eye])\n",
    "            x_min = min([coordinate[0] for coordinate in eye])\n",
    "            y_max = max([coordinate[1] for coordinate in eye])\n",
    "            y_min = min([coordinate[1] for coordinate in eye])\n",
    "            # establish the range of x and y coordinates    \n",
    "            x_range = x_max - x_min\n",
    "            y_range = y_max - y_min\n",
    "            \n",
    "            # to make sure the full eye is captured,\n",
    "            # calculate the coordinates of a square that has 50%\n",
    "            # cushion added to the axis with a larger range\n",
    "            if x_range > y_range:\n",
    "                right = round(.5*x_range) + x_max\n",
    "                left = x_min - round(.5*x_range)\n",
    "                bottom = round(((right-left) - y_range))/2 + y_max\n",
    "                top = y_min - round(((right-left) - y_range))/2\n",
    "            else:\n",
    "                bottom = round(.5*y_range) + y_max\n",
    "                top = y_min - round(.5*y_range)\n",
    "                right = round(((bottom-top) - x_range))/2 + x_max\n",
    "                left = x_min - round(((bottom-top) - x_range))/2\n",
    "            \n",
    "            #crop original image using the cushioned coordinates\n",
    "            im = Image.open(folders + file)\n",
    "            im = im.crop((left, top, right, bottom))\n",
    "            \n",
    "            # resize image for input into our model\n",
    "            im = im.resize((80,80))\n",
    "            \n",
    "            # save file to output folder\n",
    "            im.save('../data/test/yourfolderforcroppedeyes/opened/'+file)\n",
    "            \n",
    "            # increase count for iterative file saving\n",
    "            count += 1\n",
    "            print(count)\n",
    "            # print count every 200 photos to monitor progress\n",
    "            if count % 200 == 0:\n",
    "                print(count)"
   ]
  },
  {
   "cell_type": "code",
   "execution_count": 18,
   "metadata": {},
   "outputs": [
    {
     "name": "stdout",
     "output_type": "stream",
     "text": [
      "1\n",
      "2\n",
      "3\n",
      "4\n",
      "5\n",
      "6\n",
      "7\n",
      "8\n",
      "9\n",
      "10\n",
      "11\n",
      "12\n",
      "13\n",
      "14\n",
      "15\n",
      "16\n",
      "17\n",
      "18\n",
      "19\n",
      "20\n",
      "21\n",
      "22\n",
      "23\n",
      "24\n",
      "25\n",
      "26\n",
      "27\n",
      "28\n",
      "29\n",
      "30\n",
      "31\n",
      "32\n",
      "33\n",
      "34\n",
      "35\n",
      "36\n",
      "37\n",
      "38\n",
      "39\n",
      "40\n",
      "41\n",
      "42\n",
      "43\n",
      "44\n",
      "45\n",
      "46\n",
      "47\n",
      "48\n",
      "49\n",
      "50\n",
      "51\n",
      "52\n"
     ]
    }
   ],
   "source": [
    "eye_cropper('../data/test/eyes/Normal/')"
   ]
  },
  {
   "cell_type": "code",
   "execution_count": null,
   "metadata": {},
   "outputs": [],
   "source": []
  }
 ],
 "metadata": {
  "kernelspec": {
   "display_name": "Python 3.8.5 ('base')",
   "language": "python",
   "name": "python3"
  },
  "language_info": {
   "codemirror_mode": {
    "name": "ipython",
    "version": 3
   },
   "file_extension": ".py",
   "mimetype": "text/x-python",
   "name": "python",
   "nbconvert_exporter": "python",
   "pygments_lexer": "ipython3",
   "version": "3.8.5"
  },
  "orig_nbformat": 4,
  "vscode": {
   "interpreter": {
    "hash": "4298e6fd6da2fe1fbdbe55781d0a378dd9562c1f5795e48e37a7037879961298"
   }
  }
 },
 "nbformat": 4,
 "nbformat_minor": 2
}
