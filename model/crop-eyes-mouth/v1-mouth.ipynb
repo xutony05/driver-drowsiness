{
 "cells": [
  {
   "cell_type": "code",
   "execution_count": 1,
   "metadata": {},
   "outputs": [],
   "source": [
    "from PIL import Image, ImageDraw\n",
    "import face_recognition\n",
    "import os"
   ]
  },
  {
   "cell_type": "code",
   "execution_count": 8,
   "metadata": {},
   "outputs": [],
   "source": [
    "def mouth_cropper(input_folder, output_folder):\n",
    "    # Establish count for iterative file saving\n",
    "    count = 0\n",
    "\n",
    "    # Ensure the output folder exists or create it\n",
    "    os.makedirs(output_folder, exist_ok=True)\n",
    "\n",
    "    # For each file in the input folder\n",
    "    for file in os.listdir(input_folder):\n",
    "        # Load the image using face_recognition library\n",
    "        image = face_recognition.load_image_file(os.path.join(input_folder, file))\n",
    "\n",
    "        # Get face landmarks\n",
    "        face_landmarks_list = face_recognition.face_landmarks(image)\n",
    "\n",
    "        # Check if face landmarks are available\n",
    "        if face_landmarks_list:\n",
    "            # Extract mouth coordinates\n",
    "            try:\n",
    "                mouth = face_landmarks_list[0]['bottom_lip'] + face_landmarks_list[0]['top_lip']\n",
    "            except KeyError:\n",
    "                # Handle the case when mouth landmarks are not available\n",
    "                continue\n",
    "\n",
    "            # Calculate bounding box around the mouth\n",
    "            x_coords = [coord[0] for coord in mouth]\n",
    "            y_coords = [coord[1] for coord in mouth]\n",
    "\n",
    "            left = min(x_coords)\n",
    "            top = min(y_coords)\n",
    "            right = max(x_coords)\n",
    "            bottom = max(y_coords)\n",
    "\n",
    "            # Crop the original image using mouth coordinates\n",
    "            im = Image.open(os.path.join(input_folder, file))\n",
    "            im = im.crop((left, top, right, bottom))\n",
    "\n",
    "            # Resize image for input into your model\n",
    "            im = im.resize((80, 80))\n",
    "\n",
    "            # Save the cropped image to the output folder\n",
    "            im.save(os.path.join(output_folder, file))\n",
    "\n",
    "            # Increase count for iterative file saving\n",
    "            count += 1\n",
    "\n",
    "            # Print count every 200 photos to monitor progress\n",
    "            if count % 200 == 0:\n",
    "                print(count)"
   ]
  },
  {
   "cell_type": "code",
   "execution_count": 13,
   "metadata": {},
   "outputs": [],
   "source": [
    "input_folder_path = '../data/archive/val/mouth/no_yawn/'\n",
    "output_folder_path = '../data/archive/val/mouth-cropped/no_yawn/'\n",
    "mouth_cropper(input_folder_path, output_folder_path)"
   ]
  },
  {
   "cell_type": "code",
   "execution_count": null,
   "metadata": {},
   "outputs": [],
   "source": []
  }
 ],
 "metadata": {
  "kernelspec": {
   "display_name": "base",
   "language": "python",
   "name": "python3"
  },
  "language_info": {
   "codemirror_mode": {
    "name": "ipython",
    "version": 3
   },
   "file_extension": ".py",
   "mimetype": "text/x-python",
   "name": "python",
   "nbconvert_exporter": "python",
   "pygments_lexer": "ipython3",
   "version": "3.8.5"
  }
 },
 "nbformat": 4,
 "nbformat_minor": 2
}
