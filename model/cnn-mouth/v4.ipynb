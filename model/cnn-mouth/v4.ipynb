{
 "cells": [
  {
   "cell_type": "code",
   "execution_count": 1,
   "metadata": {},
   "outputs": [],
   "source": [
    "import os\n",
    "import tensorflow as tf\n",
    "from tensorflow import keras\n",
    "from tensorflow.keras.preprocessing.image import ImageDataGenerator\n",
    "from tensorflow.keras.preprocessing import image\n",
    "import numpy as np\n",
    "import matplotlib.pyplot as plt"
   ]
  },
  {
   "cell_type": "code",
   "execution_count": 2,
   "metadata": {},
   "outputs": [],
   "source": [
    "train_datagen = ImageDataGenerator(rescale=1./255)"
   ]
  },
  {
   "cell_type": "code",
   "execution_count": 3,
   "metadata": {},
   "outputs": [
    {
     "data": {
      "text/plain": [
       "[PhysicalDevice(name='/physical_device:GPU:0', device_type='GPU')]"
      ]
     },
     "execution_count": 3,
     "metadata": {},
     "output_type": "execute_result"
    }
   ],
   "source": [
    "tf.config.list_physical_devices('GPU')"
   ]
  },
  {
   "cell_type": "code",
   "execution_count": 4,
   "metadata": {},
   "outputs": [
    {
     "name": "stdout",
     "output_type": "stream",
     "text": [
      "Found 1069 images belonging to 2 classes.\n",
      "Found 379 images belonging to 2 classes.\n"
     ]
    }
   ],
   "source": [
    "train_generator = train_datagen.flow_from_directory(\n",
    "        '../data/archive/train/mouth',  # This is the source directory for training images\n",
    "        target_size=(224, 224),  # All images will be resized to 150x150\n",
    "        # Since we use binary_crossentropy loss, we need binary labels\n",
    "        shuffle=True,\n",
    "        class_mode='binary',\n",
    "        batch_size=16)\n",
    "\n",
    "validation_generator = train_datagen.flow_from_directory(\n",
    "        '../data/archive/val/mouth',  # This is the source directory for training images\n",
    "        target_size=(224, 224),  # All images will be resized to 150x150\n",
    "        # Since we use binary_crossentropy loss, we need binary labels\n",
    "        shuffle=True,\n",
    "        class_mode='binary',\n",
    "        batch_size=16)"
   ]
  },
  {
   "cell_type": "code",
   "execution_count": 17,
   "metadata": {},
   "outputs": [],
   "source": [
    "base_model = tf.keras.applications.InceptionResNetV2(\n",
    "    include_top=False, weights='imagenet', input_shape=(224,224,3)\n",
    ")"
   ]
  },
  {
   "cell_type": "code",
   "execution_count": 24,
   "metadata": {},
   "outputs": [],
   "source": [
    "base_model = tf.keras.applications.mobilenet_v2.MobileNetV2(\n",
    "    include_top=False, weights='imagenet', input_shape=(224,224,3)\n",
    ")"
   ]
  },
  {
   "cell_type": "code",
   "execution_count": 23,
   "metadata": {},
   "outputs": [],
   "source": [
    "model = tf.keras.Sequential([\n",
    "  base_model,\n",
    "  tf.keras.layers.GlobalAveragePooling2D(),\n",
    "  tf.keras.layers.Dense(512, activation='relu'),\n",
    "  tf.keras.layers.Dropout(0.2),\n",
    "  tf.keras.layers.Dense(256, activation='relu'),\n",
    "  tf.keras.layers.Dropout(0.2),\n",
    "  tf.keras.layers.Dense(1, activation='sigmoid')\n",
    "])"
   ]
  },
  {
   "cell_type": "code",
   "execution_count": 24,
   "metadata": {},
   "outputs": [],
   "source": [
    "model.compile(loss='binary_crossentropy',\n",
    "              optimizer='Adam',\n",
    "              metrics=['accuracy'])"
   ]
  },
  {
   "cell_type": "code",
   "execution_count": 25,
   "metadata": {},
   "outputs": [
    {
     "name": "stdout",
     "output_type": "stream",
     "text": [
      "Epoch 1/20\n",
      "67/67 [==============================] - 81s 716ms/step - loss: 0.1191 - accuracy: 0.9519 - val_loss: 3.0864 - val_accuracy: 0.9393\n",
      "Epoch 2/20\n",
      "67/67 [==============================] - 42s 620ms/step - loss: 0.0621 - accuracy: 0.9858 - val_loss: 0.7472 - val_accuracy: 0.9208\n",
      "Epoch 3/20\n",
      "67/67 [==============================] - 42s 628ms/step - loss: 0.0380 - accuracy: 0.9901 - val_loss: 0.5742 - val_accuracy: 0.9314\n",
      "Epoch 4/20\n",
      "67/67 [==============================] - 45s 672ms/step - loss: 0.0170 - accuracy: 0.9955 - val_loss: 6.2510 - val_accuracy: 0.5989\n",
      "Epoch 5/20\n",
      "67/67 [==============================] - 74s 1s/step - loss: 0.0416 - accuracy: 0.9831 - val_loss: 4.8344 - val_accuracy: 0.8602\n",
      "Epoch 6/20\n",
      "67/67 [==============================] - 99s 1s/step - loss: 0.0413 - accuracy: 0.9886 - val_loss: 0.1472 - val_accuracy: 0.9842\n",
      "Epoch 7/20\n",
      "67/67 [==============================] - 61s 914ms/step - loss: 0.0045 - accuracy: 0.9988 - val_loss: 0.0654 - val_accuracy: 0.9868\n",
      "Epoch 8/20\n",
      "67/67 [==============================] - 58s 860ms/step - loss: 0.0024 - accuracy: 0.9996 - val_loss: 0.1002 - val_accuracy: 0.9763\n",
      "Epoch 9/20\n",
      "67/67 [==============================] - 58s 863ms/step - loss: 0.0081 - accuracy: 0.9987 - val_loss: 0.0650 - val_accuracy: 0.9763\n",
      "Epoch 10/20\n",
      "67/67 [==============================] - 58s 863ms/step - loss: 0.0083 - accuracy: 0.9972 - val_loss: 0.1501 - val_accuracy: 0.9710\n",
      "Epoch 11/20\n",
      "67/67 [==============================] - 58s 859ms/step - loss: 0.0071 - accuracy: 0.9994 - val_loss: 0.0675 - val_accuracy: 0.9921\n",
      "Epoch 12/20\n",
      "67/67 [==============================] - 58s 861ms/step - loss: 0.0058 - accuracy: 0.9988 - val_loss: 0.0715 - val_accuracy: 0.9842\n"
     ]
    }
   ],
   "source": [
    "early_stop = keras.callbacks.EarlyStopping(monitor='val_loss', patience=3)\n",
    "\n",
    "history = model.fit(\n",
    "      train_generator,\n",
    "      validation_data = validation_generator,\n",
    "      epochs=20,\n",
    "      verbose=1,\n",
    "      callbacks=early_stop\n",
    "      )"
   ]
  },
  {
   "cell_type": "code",
   "execution_count": 42,
   "metadata": {},
   "outputs": [
    {
     "name": "stdout",
     "output_type": "stream",
     "text": [
      "Found 62 images belonging to 2 classes.\n"
     ]
    }
   ],
   "source": [
    "test_generator = train_datagen.flow_from_directory(\n",
    "        '../data/test/mouth',  # This is the source directory for training images\n",
    "        target_size=(224, 224),  # All images will be resized to 150x150\n",
    "        # Since we use binary_crossentropy loss, we need binary labels\n",
    "        shuffle=True,\n",
    "        class_mode='binary',\n",
    "        batch_size=16)"
   ]
  },
  {
   "cell_type": "code",
   "execution_count": 43,
   "metadata": {},
   "outputs": [
    {
     "name": "stdout",
     "output_type": "stream",
     "text": [
      "4/4 [==============================] - 5s 1s/step - loss: 1.4084 - accuracy: 0.7581\n"
     ]
    },
    {
     "data": {
      "text/plain": [
       "[1.4084243774414062, 0.7580645084381104]"
      ]
     },
     "execution_count": 43,
     "metadata": {},
     "output_type": "execute_result"
    }
   ],
   "source": [
    "model.evaluate(test_generator)"
   ]
  },
  {
   "cell_type": "code",
   "execution_count": null,
   "metadata": {},
   "outputs": [],
   "source": []
  }
 ],
 "metadata": {
  "kernelspec": {
   "display_name": "base",
   "language": "python",
   "name": "python3"
  },
  "language_info": {
   "codemirror_mode": {
    "name": "ipython",
    "version": 3
   },
   "file_extension": ".py",
   "mimetype": "text/x-python",
   "name": "python",
   "nbconvert_exporter": "python",
   "pygments_lexer": "ipython3",
   "version": "3.8.5"
  },
  "orig_nbformat": 4,
  "vscode": {
   "interpreter": {
    "hash": "4298e6fd6da2fe1fbdbe55781d0a378dd9562c1f5795e48e37a7037879961298"
   }
  }
 },
 "nbformat": 4,
 "nbformat_minor": 2
}
