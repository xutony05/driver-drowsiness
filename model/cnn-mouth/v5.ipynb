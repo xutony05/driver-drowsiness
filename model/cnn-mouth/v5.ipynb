{
 "cells": [
  {
   "cell_type": "code",
   "execution_count": 1,
   "metadata": {},
   "outputs": [],
   "source": [
    "import os\n",
    "import tensorflow as tf\n",
    "from tensorflow import keras\n",
    "from tensorflow.keras.preprocessing.image import ImageDataGenerator\n",
    "from tensorflow.keras.preprocessing import image\n",
    "import numpy as np\n",
    "import matplotlib.pyplot as plt"
   ]
  },
  {
   "cell_type": "code",
   "execution_count": 2,
   "metadata": {},
   "outputs": [],
   "source": [
    "train_datagen = ImageDataGenerator(rescale=1./255)"
   ]
  },
  {
   "cell_type": "code",
   "execution_count": 3,
   "metadata": {},
   "outputs": [
    {
     "data": {
      "text/plain": [
       "[PhysicalDevice(name='/physical_device:GPU:0', device_type='GPU')]"
      ]
     },
     "execution_count": 3,
     "metadata": {},
     "output_type": "execute_result"
    }
   ],
   "source": [
    "tf.config.list_physical_devices('GPU')"
   ]
  },
  {
   "cell_type": "code",
   "execution_count": 37,
   "metadata": {},
   "outputs": [
    {
     "name": "stdout",
     "output_type": "stream",
     "text": [
      "Found 856 images belonging to 2 classes.\n",
      "Found 266 images belonging to 2 classes.\n"
     ]
    }
   ],
   "source": [
    "train_generator = train_datagen.flow_from_directory(\n",
    "        '../data/archive/train/mouth-cropped',  # This is the source directory for training images\n",
    "        target_size=(80, 80),  # All images will be resized to 150x150\n",
    "        # Since we use binary_crossentropy loss, we need binary labels\n",
    "        shuffle=True,\n",
    "        class_mode='binary',\n",
    "        batch_size=16)\n",
    "\n",
    "validation_generator = train_datagen.flow_from_directory(\n",
    "        '../data/archive/val/mouth-cropped',  # This is the source directory for training images\n",
    "        target_size=(80, 80),  # All images will be resized to 150x150\n",
    "        # Since we use binary_crossentropy loss, we need binary labels\n",
    "        shuffle=True,\n",
    "        class_mode='binary',\n",
    "        batch_size=16)"
   ]
  },
  {
   "cell_type": "code",
   "execution_count": 5,
   "metadata": {},
   "outputs": [],
   "source": [
    "base_model = tf.keras.applications.InceptionResNetV2(\n",
    "    include_top=False, weights='imagenet', input_shape=(80,80,3)\n",
    ")"
   ]
  },
  {
   "cell_type": "code",
   "execution_count": 28,
   "metadata": {},
   "outputs": [],
   "source": [
    "base_model = tf.keras.applications.mobilenet_v2.MobileNetV2(\n",
    "    include_top=False, weights='imagenet', input_shape=(80,80,3)\n",
    ")"
   ]
  },
  {
   "cell_type": "code",
   "execution_count": 29,
   "metadata": {},
   "outputs": [],
   "source": [
    "model = tf.keras.Sequential([\n",
    "  base_model,\n",
    "  tf.keras.layers.GlobalAveragePooling2D(),\n",
    "  tf.keras.layers.Dense(1, activation='sigmoid')\n",
    "])"
   ]
  },
  {
   "cell_type": "code",
   "execution_count": 38,
   "metadata": {},
   "outputs": [],
   "source": [
    "model = tf.keras.models.Sequential([\n",
    "    # Note the input shape is the desired size of the image 300x300 with 3 bytes color\n",
    "    # This is the first convolution\n",
    "    tf.keras.layers.Conv2D(16, (3,3), activation='relu', input_shape=(80, 80, 3)),\n",
    "    tf.keras.layers.MaxPooling2D(2, 2),\n",
    "    # The second convolution\n",
    "    tf.keras.layers.Conv2D(32, (3,3), activation='relu'),\n",
    "    tf.keras.layers.MaxPooling2D(2,2),\n",
    "    # The third convolution\n",
    "    tf.keras.layers.Conv2D(64, (3,3), activation='relu'),\n",
    "    tf.keras.layers.MaxPooling2D(2,2),\n",
    "    # The fourth convolution\n",
    "    tf.keras.layers.Conv2D(64, (3,3), activation='relu'),\n",
    "    tf.keras.layers.MaxPooling2D(2,2),\n",
    "    #tf.keras.layers.Dropout(0.5),\n",
    "    # Flatten the results to feed into a DNN\n",
    "    tf.keras.layers.Flatten(),\n",
    "    # 512 neuron hidden layer\n",
    "    tf.keras.layers.Dense(512, activation='relu'),\n",
    "    # Only 1 output neuron. It will contain a value from 0-1 where 0 for 1 class ('horses') and 1 for the other ('humans')\n",
    "    tf.keras.layers.Dense(1, activation='sigmoid')\n",
    "])"
   ]
  },
  {
   "cell_type": "code",
   "execution_count": 39,
   "metadata": {},
   "outputs": [],
   "source": [
    "model.compile(loss='binary_crossentropy',\n",
    "              optimizer='Adam',\n",
    "              metrics=['accuracy'])"
   ]
  },
  {
   "cell_type": "code",
   "execution_count": 45,
   "metadata": {},
   "outputs": [
    {
     "name": "stdout",
     "output_type": "stream",
     "text": [
      "Model: \"sequential_4\"\n",
      "_________________________________________________________________\n",
      " Layer (type)                Output Shape              Param #   \n",
      "=================================================================\n",
      " conv2d_4 (Conv2D)           (None, 78, 78, 16)        448       \n",
      "                                                                 \n",
      " max_pooling2d_4 (MaxPooling  (None, 39, 39, 16)       0         \n",
      " 2D)                                                             \n",
      "                                                                 \n",
      " conv2d_5 (Conv2D)           (None, 37, 37, 32)        4640      \n",
      "                                                                 \n",
      " max_pooling2d_5 (MaxPooling  (None, 18, 18, 32)       0         \n",
      " 2D)                                                             \n",
      "                                                                 \n",
      " conv2d_6 (Conv2D)           (None, 16, 16, 64)        18496     \n",
      "                                                                 \n",
      " max_pooling2d_6 (MaxPooling  (None, 8, 8, 64)         0         \n",
      " 2D)                                                             \n",
      "                                                                 \n",
      " conv2d_7 (Conv2D)           (None, 6, 6, 64)          36928     \n",
      "                                                                 \n",
      " max_pooling2d_7 (MaxPooling  (None, 3, 3, 64)         0         \n",
      " 2D)                                                             \n",
      "                                                                 \n",
      " flatten_1 (Flatten)         (None, 576)               0         \n",
      "                                                                 \n",
      " dense_5 (Dense)             (None, 512)               295424    \n",
      "                                                                 \n",
      " dense_6 (Dense)             (None, 1)                 513       \n",
      "                                                                 \n",
      "=================================================================\n",
      "Total params: 356,449\n",
      "Trainable params: 356,449\n",
      "Non-trainable params: 0\n",
      "_________________________________________________________________\n"
     ]
    }
   ],
   "source": [
    "model.summary()"
   ]
  },
  {
   "cell_type": "code",
   "execution_count": 41,
   "metadata": {},
   "outputs": [
    {
     "name": "stdout",
     "output_type": "stream",
     "text": [
      "Epoch 1/50\n"
     ]
    },
    {
     "name": "stdout",
     "output_type": "stream",
     "text": [
      "54/54 [==============================] - 2s 26ms/step - loss: 0.4218 - accuracy: 0.8084 - val_loss: 0.2169 - val_accuracy: 0.9361\n",
      "Epoch 2/50\n",
      "54/54 [==============================] - 1s 17ms/step - loss: 0.2457 - accuracy: 0.9124 - val_loss: 0.6143 - val_accuracy: 0.7218\n",
      "Epoch 3/50\n",
      "54/54 [==============================] - 1s 20ms/step - loss: 0.2018 - accuracy: 0.9369 - val_loss: 0.2558 - val_accuracy: 0.8872\n",
      "Epoch 4/50\n",
      "54/54 [==============================] - 1s 25ms/step - loss: 0.1604 - accuracy: 0.9533 - val_loss: 0.1618 - val_accuracy: 0.9549\n",
      "Epoch 5/50\n",
      "54/54 [==============================] - 1s 25ms/step - loss: 0.1517 - accuracy: 0.9544 - val_loss: 0.1561 - val_accuracy: 0.9586\n",
      "Epoch 6/50\n",
      "54/54 [==============================] - 1s 27ms/step - loss: 0.1284 - accuracy: 0.9614 - val_loss: 0.1849 - val_accuracy: 0.9361\n",
      "Epoch 7/50\n",
      "54/54 [==============================] - 1s 19ms/step - loss: 0.1317 - accuracy: 0.9614 - val_loss: 0.2284 - val_accuracy: 0.9173\n",
      "Epoch 8/50\n",
      "54/54 [==============================] - 1s 17ms/step - loss: 0.1118 - accuracy: 0.9603 - val_loss: 0.1865 - val_accuracy: 0.9286\n",
      "Epoch 9/50\n",
      "54/54 [==============================] - 1s 18ms/step - loss: 0.0958 - accuracy: 0.9731 - val_loss: 0.1745 - val_accuracy: 0.9323\n",
      "Epoch 10/50\n",
      "54/54 [==============================] - 1s 20ms/step - loss: 0.0931 - accuracy: 0.9696 - val_loss: 0.1633 - val_accuracy: 0.9361\n"
     ]
    }
   ],
   "source": [
    "early_stop = keras.callbacks.EarlyStopping(monitor='val_loss', patience=5)\n",
    "\n",
    "history = model.fit(\n",
    "      train_generator,\n",
    "      validation_data = validation_generator,\n",
    "      epochs=50,\n",
    "      verbose=1,\n",
    "      callbacks=early_stop)"
   ]
  },
  {
   "cell_type": "code",
   "execution_count": 42,
   "metadata": {},
   "outputs": [
    {
     "name": "stdout",
     "output_type": "stream",
     "text": [
      "Found 46 images belonging to 2 classes.\n"
     ]
    }
   ],
   "source": [
    "test_generator = train_datagen.flow_from_directory(\n",
    "        '../data/test/yourfolderforcroppedmouths',  # This is the source directory for training images\n",
    "        target_size=(80, 80),  # All images will be resized to 150x150\n",
    "        # Since we use binary_crossentropy loss, we need binary labels\n",
    "        shuffle=True,\n",
    "        class_mode='binary',\n",
    "        batch_size=16)"
   ]
  },
  {
   "cell_type": "code",
   "execution_count": 44,
   "metadata": {},
   "outputs": [
    {
     "name": "stdout",
     "output_type": "stream",
     "text": [
      "3/3 [==============================] - 0s 17ms/step - loss: 0.2241 - accuracy: 0.9130\n"
     ]
    },
    {
     "data": {
      "text/plain": [
       "[0.22405843436717987, 0.9130434989929199]"
      ]
     },
     "execution_count": 44,
     "metadata": {},
     "output_type": "execute_result"
    }
   ],
   "source": [
    "model.evaluate(test_generator)"
   ]
  },
  {
   "cell_type": "code",
   "execution_count": 46,
   "metadata": {},
   "outputs": [],
   "source": [
    "model.save(\"base_cropped_yawning_model.h5\")"
   ]
  },
  {
   "cell_type": "code",
   "execution_count": null,
   "metadata": {},
   "outputs": [],
   "source": []
  }
 ],
 "metadata": {
  "kernelspec": {
   "display_name": "base",
   "language": "python",
   "name": "python3"
  },
  "language_info": {
   "codemirror_mode": {
    "name": "ipython",
    "version": 3
   },
   "file_extension": ".py",
   "mimetype": "text/x-python",
   "name": "python",
   "nbconvert_exporter": "python",
   "pygments_lexer": "ipython3",
   "version": "3.8.5"
  }
 },
 "nbformat": 4,
 "nbformat_minor": 2
}
