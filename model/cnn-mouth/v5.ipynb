{
 "cells": [
  {
   "cell_type": "code",
   "execution_count": 1,
   "metadata": {},
   "outputs": [],
   "source": [
    "import os\n",
    "import tensorflow as tf\n",
    "from tensorflow import keras\n",
    "from tensorflow.keras.preprocessing.image import ImageDataGenerator\n",
    "from tensorflow.keras.preprocessing import image\n",
    "import numpy as np\n",
    "import matplotlib.pyplot as plt"
   ]
  },
  {
   "cell_type": "code",
   "execution_count": 2,
   "metadata": {},
   "outputs": [],
   "source": [
    "train_datagen = ImageDataGenerator(rescale=1./255)"
   ]
  },
  {
   "cell_type": "code",
   "execution_count": 3,
   "metadata": {},
   "outputs": [
    {
     "data": {
      "text/plain": [
       "[PhysicalDevice(name='/physical_device:GPU:0', device_type='GPU')]"
      ]
     },
     "execution_count": 3,
     "metadata": {},
     "output_type": "execute_result"
    }
   ],
   "source": [
    "tf.config.list_physical_devices('GPU')"
   ]
  },
  {
   "cell_type": "code",
   "execution_count": 4,
   "metadata": {},
   "outputs": [
    {
     "name": "stdout",
     "output_type": "stream",
     "text": [
      "Found 856 images belonging to 2 classes.\n",
      "Found 266 images belonging to 2 classes.\n"
     ]
    }
   ],
   "source": [
    "train_generator = train_datagen.flow_from_directory(\n",
    "        '../data/archive/train/mouth-cropped',  # This is the source directory for training images\n",
    "        target_size=(80, 80),  # All images will be resized to 150x150\n",
    "        # Since we use binary_crossentropy loss, we need binary labels\n",
    "        shuffle=True,\n",
    "        class_mode='binary',\n",
    "        batch_size=16)\n",
    "\n",
    "validation_generator = train_datagen.flow_from_directory(\n",
    "        '../data/archive/val/mouth-cropped',  # This is the source directory for training images\n",
    "        target_size=(80, 80),  # All images will be resized to 150x150\n",
    "        # Since we use binary_crossentropy loss, we need binary labels\n",
    "        shuffle=True,\n",
    "        class_mode='binary',\n",
    "        batch_size=16)"
   ]
  },
  {
   "cell_type": "code",
   "execution_count": 5,
   "metadata": {},
   "outputs": [],
   "source": [
    "base_model = tf.keras.applications.InceptionResNetV2(\n",
    "    include_top=False, weights='imagenet', input_shape=(80,80,3)\n",
    ")"
   ]
  },
  {
   "cell_type": "code",
   "execution_count": 24,
   "metadata": {},
   "outputs": [],
   "source": [
    "model = tf.keras.Sequential([\n",
    "  base_model,\n",
    "  tf.keras.layers.GlobalAveragePooling2D(),\n",
    "  tf.keras.layers.Dense(1, activation='sigmoid')\n",
    "])"
   ]
  },
  {
   "cell_type": "code",
   "execution_count": 25,
   "metadata": {},
   "outputs": [],
   "source": [
    "model.compile(loss='binary_crossentropy',\n",
    "              optimizer='Adam',\n",
    "              metrics=['accuracy'])"
   ]
  },
  {
   "cell_type": "code",
   "execution_count": 26,
   "metadata": {},
   "outputs": [
    {
     "name": "stdout",
     "output_type": "stream",
     "text": [
      "Model: \"sequential_1\"\n",
      "_________________________________________________________________\n",
      " Layer (type)                Output Shape              Param #   \n",
      "=================================================================\n",
      " inception_resnet_v2 (Functi  (None, 1, 1, 1536)       54336736  \n",
      " onal)                                                           \n",
      "                                                                 \n",
      " global_average_pooling2d_1   (None, 1536)             0         \n",
      " (GlobalAveragePooling2D)                                        \n",
      "                                                                 \n",
      " dense_1 (Dense)             (None, 1)                 1537      \n",
      "                                                                 \n",
      "=================================================================\n",
      "Total params: 54,338,273\n",
      "Trainable params: 54,277,729\n",
      "Non-trainable params: 60,544\n",
      "_________________________________________________________________\n"
     ]
    }
   ],
   "source": [
    "model.summary()"
   ]
  },
  {
   "cell_type": "code",
   "execution_count": 27,
   "metadata": {},
   "outputs": [
    {
     "name": "stdout",
     "output_type": "stream",
     "text": [
      "Epoch 1/50\n",
      "54/54 [==============================] - 53s 424ms/step - loss: 0.0732 - accuracy: 0.9743 - val_loss: 1.1273 - val_accuracy: 0.7030\n",
      "Epoch 2/50\n",
      "54/54 [==============================] - 19s 344ms/step - loss: 0.0563 - accuracy: 0.9825 - val_loss: 0.4194 - val_accuracy: 0.8609\n",
      "Epoch 3/50\n",
      "54/54 [==============================] - 19s 344ms/step - loss: 0.0508 - accuracy: 0.9848 - val_loss: 0.2147 - val_accuracy: 0.9211\n",
      "Epoch 4/50\n",
      "54/54 [==============================] - 18s 343ms/step - loss: 0.0291 - accuracy: 0.9895 - val_loss: 7.1601 - val_accuracy: 0.7030\n",
      "Epoch 5/50\n",
      "54/54 [==============================] - 18s 335ms/step - loss: 0.0253 - accuracy: 0.9930 - val_loss: 1.6562 - val_accuracy: 0.9436\n",
      "Epoch 6/50\n",
      "54/54 [==============================] - 18s 333ms/step - loss: 0.0248 - accuracy: 0.9918 - val_loss: 0.1089 - val_accuracy: 0.9812\n",
      "Epoch 7/50\n",
      "54/54 [==============================] - 18s 331ms/step - loss: 0.0094 - accuracy: 0.9965 - val_loss: 0.1261 - val_accuracy: 0.9774\n",
      "Epoch 8/50\n",
      "54/54 [==============================] - 18s 331ms/step - loss: 0.0044 - accuracy: 0.9988 - val_loss: 0.1359 - val_accuracy: 0.9812\n",
      "Epoch 9/50\n",
      "54/54 [==============================] - 18s 338ms/step - loss: 0.0511 - accuracy: 0.9860 - val_loss: 0.2071 - val_accuracy: 0.9511\n",
      "Epoch 10/50\n",
      "54/54 [==============================] - 28s 525ms/step - loss: 0.0228 - accuracy: 0.9942 - val_loss: 0.1131 - val_accuracy: 0.9812\n",
      "Epoch 11/50\n",
      "54/54 [==============================] - 86s 2s/step - loss: 0.0077 - accuracy: 0.9965 - val_loss: 0.1418 - val_accuracy: 0.9850\n"
     ]
    }
   ],
   "source": [
    "early_stop = keras.callbacks.EarlyStopping(monitor='val_loss', patience=5)\n",
    "\n",
    "history = model.fit(\n",
    "      train_generator,\n",
    "      validation_data = validation_generator,\n",
    "      epochs=50,\n",
    "      verbose=1,\n",
    "      callbacks=early_stop)"
   ]
  },
  {
   "cell_type": "code",
   "execution_count": 28,
   "metadata": {},
   "outputs": [
    {
     "name": "stdout",
     "output_type": "stream",
     "text": [
      "Found 46 images belonging to 2 classes.\n"
     ]
    }
   ],
   "source": [
    "test_generator = train_datagen.flow_from_directory(\n",
    "        '../data/test/yourfolderforcroppedmouths',  # This is the source directory for training images\n",
    "        target_size=(80, 80),  # All images will be resized to 150x150\n",
    "        # Since we use binary_crossentropy loss, we need binary labels\n",
    "        shuffle=True,\n",
    "        class_mode='binary',\n",
    "        batch_size=16)"
   ]
  },
  {
   "cell_type": "code",
   "execution_count": 29,
   "metadata": {},
   "outputs": [
    {
     "name": "stdout",
     "output_type": "stream",
     "text": [
      "3/3 [==============================] - 1s 439ms/step - loss: 0.4835 - accuracy: 0.8696\n"
     ]
    },
    {
     "data": {
      "text/plain": [
       "[0.48349910974502563, 0.8695651888847351]"
      ]
     },
     "execution_count": 29,
     "metadata": {},
     "output_type": "execute_result"
    }
   ],
   "source": [
    "model.evaluate(test_generator)"
   ]
  },
  {
   "cell_type": "code",
   "execution_count": 30,
   "metadata": {},
   "outputs": [],
   "source": [
    "model.save(\"inception_cropped_yawning_model.h5\")"
   ]
  },
  {
   "cell_type": "code",
   "execution_count": null,
   "metadata": {},
   "outputs": [],
   "source": []
  }
 ],
 "metadata": {
  "kernelspec": {
   "display_name": "base",
   "language": "python",
   "name": "python3"
  },
  "language_info": {
   "codemirror_mode": {
    "name": "ipython",
    "version": 3
   },
   "file_extension": ".py",
   "mimetype": "text/x-python",
   "name": "python",
   "nbconvert_exporter": "python",
   "pygments_lexer": "ipython3",
   "version": "3.8.5"
  }
 },
 "nbformat": 4,
 "nbformat_minor": 2
}
